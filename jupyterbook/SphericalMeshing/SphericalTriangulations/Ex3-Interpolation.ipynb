{
 "cells": [
  {
   "cell_type": "markdown",
   "id": "4f761f61",
   "metadata": {},
   "source": [
    "## Example 3 - `stripy` interpolation on the sphere\n",
    "\n",
    "SSRFPACK is a Fortran 77 software package that constructs a smooth interpolatory or approximating surface to data values associated with arbitrarily distributed points on the surface of a sphere. It employs automatically selected tension factors to preserve shape properties of the data and avoid overshoot and undershoot associated with steep gradients.\n",
    "\n",
    "The next three examples demonstrate the interface to SSRFPACK provided through `stripy`\n",
    "\n",
    "\n",
    "#### Notebook contents\n",
    "\n",
    "   - [Incommensurable meshes](#Define-two-different-meshes)\n",
    "   - [Analytic function](#The-analytic-function-on-the-different-samplings)\n",
    "   - [Interpolation](#Interpolation-from-coarse-to-fine)\n",
    "\n",
    "\n",
    "The next example is [Ex4-Gradients](./Ex4-Gradients.md)\n",
    "\n",
    "---"
   ]
  },
  {
   "cell_type": "markdown",
   "id": "3e3bb057",
   "metadata": {},
   "source": [
    "### Define two different meshes\n",
    "\n",
    "Create a fine and a coarse mesh without common points"
   ]
  },
  {
   "cell_type": "code",
   "execution_count": null,
   "id": "65da8d1a",
   "metadata": {},
   "outputs": [],
   "source": [
    "import stripy as stripy\n",
    "\n",
    "cmesh = stripy.spherical_meshes.triangulated_cube_mesh(refinement_levels=3)\n",
    "fmesh = stripy.spherical_meshes.icosahedral_mesh(refinement_levels=3, include_face_points=True)\n",
    "\n",
    "print(cmesh.npoints)\n",
    "print(fmesh.npoints)"
   ]
  },
  {
   "cell_type": "code",
   "execution_count": null,
   "id": "de932bb6",
   "metadata": {},
   "outputs": [],
   "source": [
    "help(cmesh.interpolate)"
   ]
  },
  {
   "cell_type": "code",
   "execution_count": null,
   "id": "71acc4d2",
   "metadata": {},
   "outputs": [],
   "source": [
    "%matplotlib inline\n",
    "\n",
    "import cartopy\n",
    "import cartopy.crs as ccrs\n",
    "import matplotlib.pyplot as plt\n",
    "import numpy as np\n",
    "\n",
    "\n",
    "\n",
    "def mesh_fig(mesh, meshR, name):\n",
    "\n",
    "    fig = plt.figure(figsize=(10, 10), facecolor=\"none\")\n",
    "    ax  = plt.subplot(111, projection=ccrs.Orthographic(central_longitude=0.0, central_latitude=0.0, globe=None))\n",
    "    ax.coastlines(color=\"lightgrey\")\n",
    "    ax.set_global()\n",
    "\n",
    "    generator = mesh\n",
    "    refined   = meshR\n",
    "\n",
    "    lons0 = np.degrees(generator.lons)\n",
    "    lats0 = np.degrees(generator.lats)\n",
    "\n",
    "    lonsR = np.degrees(refined.lons)\n",
    "    latsR = np.degrees(refined.lats)\n",
    "\n",
    "    lst = generator.lst\n",
    "    lptr = generator.lptr\n",
    "\n",
    "\n",
    "    ax.scatter(lons0, lats0, color=\"Red\",\n",
    "                marker=\"o\", s=100.0, transform=ccrs.PlateCarree())\n",
    "\n",
    "    ax.scatter(lonsR, latsR, color=\"DarkBlue\",\n",
    "                marker=\"o\", s=30.0, transform=ccrs.PlateCarree())\n",
    "\n",
    "    segs = refined.identify_segments()\n",
    "\n",
    "    for s1, s2 in segs:\n",
    "        ax.plot( [lonsR[s1], lonsR[s2]],\n",
    "                 [latsR[s1], latsR[s2]], \n",
    "                 linewidth=0.5, color=\"black\", transform=ccrs.Geodetic())\n",
    "\n",
    "    # fig.savefig(name, dpi=250, transparent=True)\n",
    "    \n",
    "    return\n",
    "\n",
    "mesh_fig(cmesh,  fmesh, \"Two grids\" )"
   ]
  },
  {
   "cell_type": "markdown",
   "id": "338abb93",
   "metadata": {},
   "source": [
    "### Analytic function \n",
    "\n",
    "Define a relatively smooth function that we can interpolate from the coarse mesh to the fine mesh and analyse"
   ]
  },
  {
   "cell_type": "code",
   "execution_count": null,
   "id": "ad250c2e",
   "metadata": {},
   "outputs": [],
   "source": [
    "def analytic(lons, lats, k1, k2):\n",
    "     return np.cos(k1*lons) * np.sin(k2*lats)\n",
    "\n",
    "coarse_afn = analytic(cmesh.lons, cmesh.lats, 5.0, 2.0)\n",
    "fine_afn   = analytic(fmesh.lons, fmesh.lats, 5.0, 2.0)"
   ]
  },
  {
   "cell_type": "markdown",
   "id": "dab424ea",
   "metadata": {},
   "source": [
    "### The analytic function on the different samplings\n",
    "\n",
    "It is helpful to be able to view a mesh in 3D to verify that it is an appropriate choice. Here, for example, is the icosahedron with additional points in the centroid of the faces.\n",
    "\n",
    "This produces triangles with a narrow area distribution. In three dimensions it is easy to see the origin of the size variations."
   ]
  },
  {
   "cell_type": "code",
   "execution_count": null,
   "id": "57afcc9b",
   "metadata": {
    "tags": []
   },
   "outputs": [],
   "source": [
    "import k3d\n",
    "plot = k3d.plot(camera_auto_fit=False, grid_visible=False, \n",
    "                menu_visibility=False, axes_helper=False )\n",
    "\n",
    "findices = fmesh.simplices.astype(np.uint32)\n",
    "cindices = cmesh.simplices.astype(np.uint32)\n",
    "fpoints = np.column_stack(fmesh.points.T).astype(np.float32)\n",
    "cpoints = np.column_stack(cmesh.points.T).astype(np.float32)\n",
    "\n",
    "plot   += k3d.mesh(fpoints, findices, wireframe=False, color=0xBBBBBB,\n",
    "                   flat_shading=True, opacity=1.0 )\n",
    "\n",
    "\n",
    "plot   += k3d.points(fpoints, point_size=0.01,color=0xFF0000)\n",
    "\n",
    "\n",
    "\n",
    "\n",
    "plot   += k3d.points(cpoints, point_size=0.02,color=0x00FF00)\n",
    "\n",
    "plot.display()"
   ]
  },
  {
   "cell_type": "markdown",
   "id": "5ed15d9e",
   "metadata": {},
   "source": [
    "### Interpolation from coarse to fine\n",
    "\n",
    "The `interpolate` method of the sTriangulation takes arrays of longitude, latitude points (in radians) and an array of\n",
    "data on the mesh vertices. It returns an array of interpolated values and a status array that states whether each value\n",
    "represents an interpolation, extrapolation or neither (an error condition). The interpolation can be nearest-neighbour (order=0),\n",
    "linear (order=1) or cubic spline (order=3)."
   ]
  },
  {
   "cell_type": "code",
   "execution_count": null,
   "id": "71e8c2eb",
   "metadata": {},
   "outputs": [],
   "source": [
    "interp_c2f1, err = cmesh.interpolate(fmesh.lons, fmesh.lats, order=1, zdata=coarse_afn)\n",
    "interp_c2f3, err = cmesh.interpolate(fmesh.lons, fmesh.lats, order=3, zdata=coarse_afn)\n",
    "\n",
    "err_c2f1 = interp_c2f1-fine_afn\n",
    "err_c2f3 = interp_c2f3-fine_afn"
   ]
  },
  {
   "cell_type": "code",
   "execution_count": null,
   "id": "0ffea5f2",
   "metadata": {},
   "outputs": [],
   "source": [
    "interp_c2f1.max()"
   ]
  },
  {
   "cell_type": "code",
   "execution_count": null,
   "id": "8dd15800",
   "metadata": {},
   "outputs": [],
   "source": [
    "import k3d\n",
    "plot = k3d.plot(camera_auto_fit=False, grid_visible=False, \n",
    "                menu_visibility=True, axes_helper=False )\n",
    "\n",
    "findices = fmesh.simplices.astype(np.uint32)\n",
    "cindices = cmesh.simplices.astype(np.uint32)\n",
    "fpoints = np.column_stack(fmesh.points.T).astype(np.float32)\n",
    "cpoints = np.column_stack(cmesh.points.T).astype(np.float32)\n",
    "\n",
    "\n",
    "plot   += k3d.mesh(fpoints, findices, wireframe=False, attribute=interp_c2f1,\n",
    "                   color_map=k3d.colormaps.basic_color_maps.CoolWarm, \n",
    "                   name=\"1st order interpolant\",\n",
    "                   flat_shading=False, opacity=1.0  )\n",
    "\n",
    "\n",
    "plot   += k3d.mesh(fpoints, findices, wireframe=False, attribute=interp_c2f3,\n",
    "                   color_map=k3d.colormaps.basic_color_maps.CoolWarm, \n",
    "                   name=\"3rd order interpolant\",\n",
    "                   flat_shading=False, opacity=1.0  )\n",
    "\n",
    "\n",
    "plot   += k3d.mesh(fpoints, findices, wireframe=False, attribute=err_c2f1,\n",
    "                   color_map=k3d.colormaps.basic_color_maps.CoolWarm, \n",
    "                   name=\"1st order error\",\n",
    "                   flat_shading=False, opacity=1.0  )\n",
    "\n",
    "\n",
    "plot   += k3d.mesh(fpoints, findices, wireframe=False, attribute=err_c2f3,\n",
    "                   color_map=k3d.colormaps.basic_color_maps.CoolWarm, \n",
    "                   name=\"3rd order error\",\n",
    "                   flat_shading=False, opacity=1.0  )\n",
    "\n",
    "\n",
    "\n",
    "plot   += k3d.points(fpoints, point_size=0.01,color=0x779977)\n",
    "\n",
    "\n",
    "plot.display()\n",
    "\n"
   ]
  },
  {
   "cell_type": "markdown",
   "id": "6c0e48e1",
   "metadata": {},
   "source": [
    "### Interpolate to grid\n",
    "\n",
    "Interpolating to a grid is useful for exporting maps of a region. The `interpolate_to_grid` method interpolates mesh data to a regular grid defined by the user. Values outside the convex hull are extrapolated.\n",
    "\n",
    "> `interpolate_to_grid` is a convenience function that yields identical results to interpolating over a meshed grid using the `interpolate` method."
   ]
  },
  {
   "cell_type": "code",
   "execution_count": null,
   "id": "fc867d35",
   "metadata": {},
   "outputs": [],
   "source": [
    "resX = 200\n",
    "resY = 100\n",
    "\n",
    "extent_globe = np.radians([-180,180,-90,90])\n",
    "\n",
    "grid_lon = np.linspace(extent_globe[0], extent_globe[1], resX)\n",
    "grid_lat = np.linspace(extent_globe[2], extent_globe[3], resY)\n",
    "\n",
    "grid_z1 = fmesh.interpolate_to_grid(grid_lon, grid_lat, interp_c2f3)\n",
    "\n",
    "# compare with `interpolate` method\n",
    "grid_loncoords, grid_latcoords = np.meshgrid(grid_lon, grid_lat)\n",
    "\n",
    "grid_z2, ierr = fmesh.interpolate(grid_loncoords.ravel(), grid_latcoords.ravel(), interp_c2f3, order=3)\n",
    "grid_z2 = grid_z2.reshape(resY,resX)"
   ]
  },
  {
   "cell_type": "code",
   "execution_count": null,
   "id": "5df45db8",
   "metadata": {},
   "outputs": [],
   "source": [
    "fig = plt.figure(figsize=(15, 10), facecolor=\"none\")\n",
    "\n",
    "ax1  = plt.subplot(121, projection=ccrs.Mercator())\n",
    "ax1.coastlines()\n",
    "ax1.set_global()\n",
    "ax1.imshow(grid_z1, extent=np.degrees(extent_globe), cmap='RdBu', transform=ccrs.PlateCarree())\n",
    "\n",
    "ax2  = plt.subplot(122, projection=ccrs.Mercator())\n",
    "ax2.coastlines()\n",
    "ax2.set_global()\n",
    "ax2.imshow(grid_z2, extent=np.degrees(extent_globe), cmap='RdBu', transform=ccrs.PlateCarree())"
   ]
  },
  {
   "cell_type": "markdown",
   "id": "37f5d50d",
   "metadata": {},
   "source": [
    "The next example is [Ex4-Gradients](./Ex4-Gradients.md)"
   ]
  }
 ],
 "metadata": {
  "kernelspec": {
   "display_name": "Python 3 (ipykernel)",
   "language": "python",
   "name": "python3"
  }
 },
 "nbformat": 4,
 "nbformat_minor": 5
}
